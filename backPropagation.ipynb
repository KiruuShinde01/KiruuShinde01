{
  "nbformat": 4,
  "nbformat_minor": 0,
  "metadata": {
    "colab": {
      "provenance": [],
      "authorship_tag": "ABX9TyOG7RjDqoSmad3+X+Cq6Rkf",
      "include_colab_link": true
    },
    "kernelspec": {
      "name": "python3",
      "display_name": "Python 3"
    },
    "language_info": {
      "name": "python"
    }
  },
  "cells": [
    {
      "cell_type": "markdown",
      "metadata": {
        "id": "view-in-github",
        "colab_type": "text"
      },
      "source": [
        "<a href=\"https://colab.research.google.com/github/KiruuShinde01/KiruuShinde01/blob/main/backPropagation.ipynb\" target=\"_parent\"><img src=\"https://colab.research.google.com/assets/colab-badge.svg\" alt=\"Open In Colab\"/></a>"
      ]
    },
    {
      "cell_type": "code",
      "execution_count": null,
      "metadata": {
        "colab": {
          "base_uri": "https://localhost:8080/"
        },
        "id": "8x5yRObKng-z",
        "outputId": "a1d098e7-607d-480f-e425-b8cb1ccf1feb"
      },
      "outputs": [
        {
          "output_type": "stream",
          "name": "stdout",
          "text": [
            "Epoch 0: Loss = 0.2542875001691306\n",
            "Epoch 10000: Loss = 0.16691598142772687\n",
            "Epoch 20000: Loss = 0.14264376406980941\n",
            "Epoch 30000: Loss = 0.1351813351632207\n",
            "Epoch 40000: Loss = 0.13189234975621375\n",
            "Epoch 50000: Loss = 0.13015627035581942\n",
            "Epoch 60000: Loss = 0.12909687110201482\n",
            "Epoch 70000: Loss = 0.1283850330532488\n",
            "Epoch 80000: Loss = 0.12787416881244792\n",
            "Epoch 90000: Loss = 0.12748975501272825\n",
            "Epoch 100000: Loss = 0.1271900168789361\n",
            "Epoch 110000: Loss = 0.12694974660077157\n",
            "Epoch 120000: Loss = 0.12675283780617366\n",
            "Epoch 130000: Loss = 0.12658851943738186\n",
            "Epoch 140000: Loss = 0.12644931577070165\n",
            "Epoch 150000: Loss = 0.12632987568257262\n",
            "Epoch 160000: Loss = 0.12622626786313185\n",
            "Epoch 170000: Loss = 0.12613553912998413\n",
            "Epoch 180000: Loss = 0.1260554279791357\n",
            "Epoch 190000: Loss = 0.12598417324280584\n",
            "Epoch 200000: Loss = 0.1259203829442039\n",
            "Epoch 210000: Loss = 0.12586294235389717\n",
            "Epoch 220000: Loss = 0.12581094822416503\n",
            "Epoch 230000: Loss = 0.12576366089874028\n",
            "Epoch 240000: Loss = 0.12572046887452812\n",
            "Epoch 250000: Loss = 0.12568086219446145\n",
            "Epoch 260000: Loss = 0.1256444122060667\n",
            "Epoch 270000: Loss = 0.12561075597683313\n",
            "Epoch 280000: Loss = 0.12557958416246978\n",
            "Epoch 290000: Loss = 0.12555063146721085\n",
            "Epoch 300000: Loss = 0.12552366907219656\n",
            "Epoch 310000: Loss = 0.12549849857393003\n",
            "Epoch 320000: Loss = 0.1254749470927139\n",
            "Epoch 330000: Loss = 0.12545286329578717\n",
            "Epoch 340000: Loss = 0.1254321141416222\n",
            "Epoch 350000: Loss = 0.1254125821972734\n",
            "Epoch 360000: Loss = 0.12539416341444495\n",
            "Epoch 370000: Loss = 0.12537676527529357\n",
            "Epoch 380000: Loss = 0.1253603052381806\n",
            "Epoch 390000: Loss = 0.1253447094282459\n",
            "Epoch 400000: Loss = 0.12532991152896045\n",
            "Epoch 410000: Loss = 0.12531585183956426\n",
            "Epoch 420000: Loss = 0.12530247647012946\n",
            "Epoch 430000: Loss = 0.1252897366513603\n",
            "Epoch 440000: Loss = 0.12527758814049078\n",
            "Epoch 450000: Loss = 0.12526599070802433\n",
            "Epoch 460000: Loss = 0.1252549076927643\n",
            "Epoch 470000: Loss = 0.12524430561476532\n",
            "Epoch 480000: Loss = 0.12523415383759517\n",
            "Epoch 490000: Loss = 0.12522442427273062\n",
            "Predictions:\n",
            "Input: [0 0], Predicted Output: [[0.33373935]]\n",
            "Input: [0 1], Predicted Output: [[0.71600415]]\n",
            "Input: [1 0], Predicted Output: [[0.6134434]]\n",
            "Input: [1 1], Predicted Output: [[0.39924775]]\n"
          ]
        }
      ],
      "source": [
        "import numpy as np\n",
        "\n",
        "def sigmoid(x):\n",
        "    return 1 / (1 + np.exp(-x))\n",
        "\n",
        "def sigmoid_derivative(x):\n",
        "    return x * (1 - x)\n",
        "\n",
        "class NeuralNetwork:\n",
        "    def __init__(self, layers):\n",
        "        self.layers = layers\n",
        "        self.weights = [2 * np.random.random((layers[i], layers[i+1])) - 1 for i in range(len(layers)-1)]\n",
        "        self.biases = [np.zeros((1, layers[i+1])) for i in range(len(layers)-1)]\n",
        "\n",
        "    def forward_propagation(self, X):\n",
        "        self.activations = [X]\n",
        "        self.z_values = []\n",
        "        for i in range(len(self.layers)-1):\n",
        "            z = np.dot(self.activations[-1], self.weights[i]) + self.biases[i]\n",
        "            self.z_values.append(z)\n",
        "            activation = sigmoid(z)\n",
        "            self.activations.append(activation)\n",
        "        return self.activations[-1]\n",
        "\n",
        "    def backpropagation(self, X, y, learning_rate):\n",
        "        y = y.reshape(self.activations[-1].shape)\n",
        "        errors = [y - self.activations[-1]]\n",
        "        deltas = [errors[0] * sigmoid_derivative(self.activations[-1])]\n",
        "        for i in range(len(self.layers)-3, -1, -1):\n",
        "            error = deltas[0].dot(self.weights[i+1].T)\n",
        "            errors.insert(0, error)\n",
        "            delta = errors[0] * sigmoid_derivative(self.activations[i+1])\n",
        "            deltas.insert(0, delta)\n",
        "        for i in range(len(self.layers)-2):\n",
        "            self.weights[i] += learning_rate * self.activations[i].T.dot(deltas[i])\n",
        "            self.biases[i] += learning_rate * np.sum(deltas[i], axis=0)\n",
        "\n",
        "    def train(self, X, y, learning_rate, epochs):\n",
        "        for epoch in range(epochs):\n",
        "            output = self.forward_propagation(X)\n",
        "            self.backpropagation(X, y, learning_rate)\n",
        "            if epoch % 10000 == 0:\n",
        "                print(f\"Epoch {epoch}: Loss = {np.mean(np.square(y - output))}\")\n",
        "\n",
        "# Example usage\n",
        "X = np.array([[0, 0], [0, 1], [1, 0], [1, 1]])\n",
        "y = np.array([[0], [1], [1], [0]])\n",
        "\n",
        "nn = NeuralNetwork([2, 4, 1])\n",
        "nn.train(X, y, learning_rate=0.1, epochs=500000)\n",
        "\n",
        "# Make predictions\n",
        "print(\"Predictions:\")\n",
        "for i in range(len(X)):\n",
        "    prediction = nn.forward_propagation(X[i])\n",
        "    print(f\"Input: {X[i]}, Predicted Output: {prediction}\")\n"
      ]
    }
  ]
}