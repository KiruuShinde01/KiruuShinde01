{
  "nbformat": 4,
  "nbformat_minor": 0,
  "metadata": {
    "colab": {
      "provenance": [],
      "authorship_tag": "ABX9TyOzLzk30Y9XlmmIpj2msFGM",
      "include_colab_link": true
    },
    "kernelspec": {
      "name": "python3",
      "display_name": "Python 3"
    },
    "language_info": {
      "name": "python"
    }
  },
  "cells": [
    {
      "cell_type": "markdown",
      "metadata": {
        "id": "view-in-github",
        "colab_type": "text"
      },
      "source": [
        "<a href=\"https://colab.research.google.com/github/KiruuShinde01/KiruuShinde01/blob/main/linearRegression01.ipynb\" target=\"_parent\"><img src=\"https://colab.research.google.com/assets/colab-badge.svg\" alt=\"Open In Colab\"/></a>"
      ]
    },
    {
      "cell_type": "code",
      "source": [
        "import pandas as pd\n",
        "import numpy as np\n",
        "import matplotlib.pyplot as plt\n",
        "from sklearn.model_selection import train_test_split\n",
        "from sklearn.linear_model import LinearRegression\n",
        "from sklearn.metrics import mean_squared_error"
      ],
      "metadata": {
        "id": "Wlnl8WuwDCf8"
      },
      "execution_count": null,
      "outputs": []
    },
    {
      "cell_type": "code",
      "source": [
        "\n",
        "# Assuming the dataset file is named 'house_price.csv'\n",
        "df = pd.read_csv('House Price In India.csv')\n"
      ],
      "metadata": {
        "id": "0vVyNs_WDH9E"
      },
      "execution_count": null,
      "outputs": []
    },
    {
      "cell_type": "code",
      "source": [
        "\n",
        "# Check the structure of the dataset\n",
        "print(df.head())"
      ],
      "metadata": {
        "colab": {
          "base_uri": "https://localhost:8080/"
        },
        "id": "tYqrYxvwDUjs",
        "outputId": "feab2fe1-3340-4ebc-9ffb-bf7a4a74d52b"
      },
      "execution_count": null,
      "outputs": [
        {
          "output_type": "stream",
          "name": "stdout",
          "text": [
            "           id   Date  number of bedrooms  number of bathrooms  living area  \\\n",
            "0  6762810145  42491                   5                 2.50         3650   \n",
            "1  6762810635  42491                   4                 2.50         2920   \n",
            "2  6762810998  42491                   5                 2.75         2910   \n",
            "3  6762812605  42491                   4                 2.50         3310   \n",
            "4  6762812919  42491                   3                 2.00         2710   \n",
            "\n",
            "   lot area  number of floors  waterfront present  number of views  \\\n",
            "0      9050               2.0                   0                4   \n",
            "1      4000               1.5                   0                0   \n",
            "2      9480               1.5                   0                0   \n",
            "3     42998               2.0                   0                0   \n",
            "4      4500               1.5                   0                0   \n",
            "\n",
            "   condition of the house  ...  Built Year  Renovation Year  Postal Code  \\\n",
            "0                       5  ...        1921                0       122003   \n",
            "1                       5  ...        1909                0       122004   \n",
            "2                       3  ...        1939                0       122004   \n",
            "3                       3  ...        2001                0       122005   \n",
            "4                       4  ...        1929                0       122006   \n",
            "\n",
            "   Lattitude  Longitude  living_area_renov  lot_area_renov  \\\n",
            "0    52.8645   -114.557               2880            5400   \n",
            "1    52.8878   -114.470               2470            4000   \n",
            "2    52.8852   -114.468               2940            6600   \n",
            "3    52.9532   -114.321               3350           42847   \n",
            "4    52.9047   -114.485               2060            4500   \n",
            "\n",
            "   Number of schools nearby  Distance from the airport    Price  \n",
            "0                         2                         58  2380000  \n",
            "1                         2                         51  1400000  \n",
            "2                         1                         53  1200000  \n",
            "3                         3                         76   838000  \n",
            "4                         1                         51   805000  \n",
            "\n",
            "[5 rows x 23 columns]\n"
          ]
        }
      ]
    },
    {
      "cell_type": "code",
      "source": [
        "# Identify the input (X) and output (y) variables\n",
        "X = df.iloc[:, :-1].values\n",
        "y = df.iloc[:, -1].values\n",
        "\n",
        "\n",
        "\n",
        "# Split the data into training and testing sets\n",
        "X_train, X_test, y_train, y_test = train_test_split(X, y, test_size=0.2, random_state=42)\n",
        "\n",
        "\n",
        "# Create an instance of the LinearRegression model\n",
        "model = LinearRegression()\n",
        "\n",
        "\n",
        "# Fit the model to the training data\n",
        "model.fit(X_train, y_train)\n",
        "\n",
        "# Get the coefficients and intercept\n",
        "coefficients = model.coef_\n",
        "intercept = model.intercept_\n",
        "\n",
        "#printing the cofficients and intercept\n",
        "print(coefficients)\n",
        "print(intercept)\n",
        "\n",
        "\n",
        "# Display the hypothesis equation\n",
        "print(\"\\n\")\n",
        "print(\"Displaying the hypothesis : \\n\")\n",
        "hypothesis = \"H(x) = {} + {}x\".format(intercept, \" + \".join([\"{}*{}\".format(coef, col) for coef, col in zip(coefficients, df.columns[:-1])]))\n",
        "print(\"Hypothesis:\", hypothesis)\n"
      ],
      "metadata": {
        "colab": {
          "base_uri": "https://localhost:8080/"
        },
        "id": "wmHVT3MKDZYs",
        "outputId": "10125fec-661f-4f44-e8b0-4803e33eb1a0"
      },
      "execution_count": null,
      "outputs": [
        {
          "output_type": "stream",
          "name": "stdout",
          "text": [
            "[-2.35809954e+01  1.18850391e+01 -3.96040195e+04  2.61838873e+04\n",
            "  9.70821234e+01 -2.42072493e-01 -2.60610545e+04  5.36784281e+05\n",
            "  3.28457565e+04  1.12874066e+04  5.20651219e+04  7.51068820e+01\n",
            "  2.19752413e+01 -1.58402098e+03  1.42091685e+01  1.06523163e+03\n",
            "  1.60971164e+05 -1.05162508e+05 -1.73494934e+01 -3.01458380e-01\n",
            "  1.68978299e+03 -1.64604863e+02]\n",
            "159326047414.89145\n",
            "\n",
            "\n",
            "Displaying the hypothesis : \n",
            "\n",
            "Hypothesis: H(x) = 159326047414.89145 + -23.580995416371646*id + 11.88503914466353*Date + -39604.019469069375*number of bedrooms + 26183.88726928544*number of bathrooms + 97.08212338337955*living area + -0.24207249286621607*lot area + -26061.0544637148*number of floors + 536784.2810339063*waterfront present + 32845.75647957648*number of views + 11287.406559957146*condition of the house + 52065.12186809883*grade of the house + 75.10688204256887*Area of the house(excluding basement) + 21.97524134492761*Area of the basement + -1584.0209836610763*Built Year + 14.209168531812692*Renovation Year + 1065.2316303854548*Postal Code + 160971.16361296555*Lattitude + -105162.50799963177*Longitude + -17.349493392058285*living_area_renov + -0.3014583799878192*lot_area_renov + 1689.7829941272391*Number of schools nearby + -164.6048634134117*Distance from the airportx\n"
          ]
        }
      ]
    },
    {
      "cell_type": "code",
      "source": [
        "# Predict on the testing data\n",
        "y_pred = model.predict(X_test)\n",
        "\n",
        "print(\"Predicted y:\", y_pred)\n",
        "# Calculate the mean squared error\n",
        "mse = mean_squared_error(y_test, y_pred)\n",
        "print(\"Mean Squared Error:\", mse)\n"
      ],
      "metadata": {
        "colab": {
          "base_uri": "https://localhost:8080/"
        },
        "id": "IOoHRHXiELaa",
        "outputId": "6702500c-6400-481f-bbb4-f3b659aabecd"
      },
      "execution_count": null,
      "outputs": [
        {
          "output_type": "stream",
          "name": "stdout",
          "text": [
            "Predicted y: [ 246046.49960327  654162.58157349  580460.52304077 ... 1009214.42523193\n",
            "  218460.10009766  664961.88037109]\n",
            "Mean Squared Error: 35029743918.59401\n"
          ]
        }
      ]
    },
    {
      "cell_type": "code",
      "source": [
        "# Plot the actual vs predicted prices\n",
        "plt.scatter(y_test, y_pred)\n",
        "plt.xlabel('Actual Price')\n",
        "plt.ylabel('Predicted Price')\n",
        "plt.title('Actual vs Predicted House Prices')\n",
        "plt.show()"
      ],
      "metadata": {
        "colab": {
          "base_uri": "https://localhost:8080/",
          "height": 472
        },
        "id": "0xx4FkmXERPx",
        "outputId": "316ba455-d815-44b1-d350-151d6b9e1439"
      },
      "execution_count": null,
      "outputs": [
        {
          "output_type": "display_data",
          "data": {
            "text/plain": [
              "<Figure size 640x480 with 1 Axes>"
            ],
            "image/png": "[encoded data removed]"
          },
          "metadata": {}
        }
      ]
    }
  ]
}